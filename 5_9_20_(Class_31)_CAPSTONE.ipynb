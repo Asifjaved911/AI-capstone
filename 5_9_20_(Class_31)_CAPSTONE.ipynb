{
  "nbformat": 4,
  "nbformat_minor": 0,
  "metadata": {
    "colab": {
      "name": "5-9-20 (Class 31) - CAPSTONE",
      "provenance": [],
      "collapsed_sections": []
    },
    "kernelspec": {
      "name": "python3",
      "display_name": "Python 3"
    }
  },
  "cells": [
    {
      "cell_type": "markdown",
      "metadata": {
        "id": "GikEjkgn9W4t",
        "colab_type": "text"
      },
      "source": [
        "CAPSTONE - Heart failure dataset"
      ]
    },
    {
      "cell_type": "code",
      "metadata": {
        "id": "tSdMzUSt0G_b",
        "colab_type": "code",
        "colab": {
          "base_uri": "https://localhost:8080/",
          "height": 296
        },
        "outputId": "3a3aa424-136a-4ca6-c357-a53092b0730e"
      },
      "source": [
        "import numpy as np\n",
        "import pandas as pd\n",
        "from sklearn.preprocessing import LabelEncoder\n",
        "from sklearn.model_selection import train_test_split\n",
        "from sklearn.svm import SVC\n",
        "import matplotlib.pyplot as plt\n",
        "from sklearn.preprocessing import StandardScaler\n",
        "from sklearn.metrics import mean_squared_error\n",
        "\n",
        "a=pd.read_csv(\"heart_failure_clinical_records_dataset.csv\")\n",
        "a=a.fillna(0)\n",
        "x=a[['age','high_blood_pressure','smoking','anaemia','ejection_fraction','serum_sodium','creatinine_phosphokinase','diabetes','platelets','serum_creatinine','sex']]\n",
        "y=a.loc[:,'DEATH_EVENT']\n",
        "x_train,x_test,y_train,y_test=train_test_split(x,y,test_size=0.1,random_state=50)\n",
        "model=SVC(kernel='linear',random_state=0)\n",
        "ss_x = StandardScaler()\n",
        "x_train = ss_x.fit_transform(x_train)\n",
        "x_test = ss_x.fit_transform(x_test)\n",
        "model.fit(x_train,y_train)\n",
        "z=model.predict(x_test)\n",
        "my_color=np.where(y==1, 'green', 'red')\n",
        "plt.scatter(a.loc[:,'high_blood_pressure'],a.loc[:,'age'],c=my_color, s=1, alpha=1)\n",
        "plt.title('Death Prediction')\n",
        "plt.xlabel('high_blood_pressure')\n",
        "plt.ylabel('age')\n",
        "plt.show()"
      ],
      "execution_count": null,
      "outputs": [
        {
          "output_type": "display_data",
          "data": {
            "image/png": "[encoded data removed]",
            "text/plain": [
              "<Figure size 432x288 with 1 Axes>"
            ]
          },
          "metadata": {
            "tags": [],
            "needs_background": "light"
          }
        }
      ]
    },
    {
      "cell_type": "code",
      "metadata": {
        "id": "K3mJfRIAAOZF",
        "colab_type": "code",
        "colab": {
          "base_uri": "https://localhost:8080/",
          "height": 340
        },
        "outputId": "356dc8e2-c51c-4288-c702-4385da8d1129"
      },
      "source": [
        "aa=pd.read_csv(\"heart_failure_clinical_records_dataset.csv\")\n",
        "aa=aa.fillna(0)\n",
        "xx=aa[['age','high_blood_pressure','smoking','anaemia','ejection_fraction','serum_sodium','creatinine_phosphokinase','diabetes','platelets','serum_creatinine','sex']]\n",
        "ss_xx = StandardScaler()\n",
        "xx= ss_xx.fit_transform(xx)\n",
        "p=model.predict(xx)\n",
        "print(\"prediction - \",p)\n",
        "var=aa.loc[:,'DEATH_EVENT']\n",
        "var=np.array(var)\n",
        "print(\"Reality - \",var)\n",
        "mse=mean_squared_error(var,p)\n",
        "print('mean sqaured error -',mse)"
      ],
      "execution_count": null,
      "outputs": [
        {
          "output_type": "stream",
          "text": [
            "prediction -  [1 1 1 0 1 1 1 0 0 1 1 0 0 0 0 0 0 0 1 0 1 1 0 0 1 0 1 0 1 1 1 1 0 0 0 1 0\n",
            " 0 1 0 1 0 0 0 0 0 0 0 1 0 0 0 1 0 1 1 1 0 0 1 1 0 0 0 0 1 0 0 0 0 0 0 1 0\n",
            " 1 0 0 0 0 0 0 0 1 0 0 0 0 0 0 0 0 0 0 0 0 0 1 0 0 0 0 0 1 0 0 1 0 0 0 0 0\n",
            " 0 0 0 0 0 0 0 0 1 0 0 0 0 1 0 1 0 0 0 0 1 0 0 1 0 0 1 0 0 0 0 0 0 1 0 0 0\n",
            " 1 0 0 0 0 0 0 0 0 0 0 0 0 0 0 0 0 1 0 1 0 0 0 0 0 0 0 0 0 0 0 0 0 0 0 1 0\n",
            " 0 0 1 0 0 1 0 0 0 0 0 0 0 1 1 0 0 0 1 0 0 0 0 0 0 1 0 0 0 0 0 0 1 0 0 1 0\n",
            " 0 0 0 0 1 0 1 1 1 0 0 0 0 0 0 0 0 0 0 0 0 0 0 0 0 1 0 0 0 0 0 0 0 0 0 0 0\n",
            " 0 0 0 1 0 0 0 1 0 0 0 0 0 0 0 0 0 0 0 0 0 0 1 1 0 0 0 0 0 0 0 0 0 0 0 0 0\n",
            " 0 0 0]\n",
            "Reality -  [1 1 1 1 1 1 1 1 1 1 1 1 1 1 0 1 1 1 1 1 0 1 1 0 1 1 1 1 1 1 1 1 1 0 1 1 1\n",
            " 1 0 1 1 1 1 0 1 1 1 1 1 1 1 1 1 1 1 1 0 0 1 1 1 1 0 1 0 1 1 1 1 1 0 0 1 0\n",
            " 1 1 0 0 0 0 0 0 1 0 1 0 0 0 0 0 0 0 0 1 0 0 0 0 0 0 0 0 0 0 0 1 0 0 0 0 1\n",
            " 0 0 1 0 0 0 0 0 1 0 0 0 0 1 0 1 0 0 0 0 0 0 0 0 0 0 0 0 0 1 0 0 0 1 0 0 0\n",
            " 1 0 1 0 0 0 0 0 0 0 0 0 0 0 0 1 1 1 0 1 0 0 0 0 0 0 0 0 0 0 0 0 0 1 1 1 1\n",
            " 1 1 1 0 0 0 0 0 0 1 1 0 0 0 0 0 0 0 0 0 0 0 0 0 0 0 0 0 1 0 0 0 1 0 0 1 0\n",
            " 0 0 0 0 0 0 0 0 1 0 0 0 0 0 0 0 0 0 0 0 0 0 0 0 1 0 0 0 0 0 0 0 0 0 0 0 0\n",
            " 0 0 0 1 0 0 0 1 0 0 0 0 0 0 0 0 0 0 0 0 0 0 0 0 0 0 0 0 0 0 0 0 0 0 0 0 0\n",
            " 0 0 0]\n",
            "mean sqaured error - 0.2408026755852843\n"
          ],
          "name": "stdout"
        }
      ]
    }
  ]
}